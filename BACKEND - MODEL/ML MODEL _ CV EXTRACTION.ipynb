{
  "cells": [
    {
      "cell_type": "code",
      "execution_count": 4,
      "metadata": {
        "colab": {
          "base_uri": "https://localhost:8080/"
        },
        "id": "QuwsY4e5xvAv",
        "outputId": "6fce1bc8-e996-46ae-aa3c-969dc941acd7"
      },
      "outputs": [
        {
          "name": "stdout",
          "output_type": "stream",
          "text": [
            "Predicted Job Role: Web Developer\n"
          ]
        }
      ],
      "source": [
        "import PyPDF2\n",
        "import re\n",
        "from sklearn.feature_extraction.text import TfidfVectorizer\n",
        "from sklearn.svm import SVC\n",
        "import joblib\n",
        "\n",
        "def extract_skills(text, keywords):\n",
        "\n",
        "    skills = []\n",
        "    for keyword in keywords:\n",
        "        pattern = rf\"\\b{keyword}\\s*(\\w+\\s*){{0,2}}\"\n",
        "        skills.extend(re.findall(pattern, text, re.IGNORECASE))\n",
        "    return skills\n",
        "\n",
        "def preprocess_text(text):\n",
        "\n",
        "    text = re.sub(r'[^\\w\\s]', '', text).lower()\n",
        "    return text\n",
        "\n",
        "def train_classifier(X, y):\n",
        "\n",
        "    vectorizer = TfidfVectorizer()\n",
        "    X_vec = vectorizer.fit_transform(X)\n",
        "    classifier = SVC(kernel='linear')\n",
        "    classifier.fit(X_vec, y)\n",
        "    return vectorizer, classifier\n",
        "\n",
        "def analyze_cv_with_ml(pdf_path, vectorizer, classifier, keywords):\n",
        "\n",
        "    text = extract_text_from_pdf(pdf_path)\n",
        "    preprocessed_text = preprocess_text(text)\n",
        "    skills_text = \" \".join(extract_skills(preprocessed_text, keywords))\n",
        "    X = vectorizer.transform([skills_text])\n",
        "    job_role = classifier.predict(X)[0]\n",
        "    return job_role\n",
        "\n",
        "def extract_text_from_pdf(pdf_path):\n",
        "\n",
        "    text = \"\"\n",
        "    with open(pdf_path, \"rb\") as pdf_file:\n",
        "        pdf_reader = PyPDF2.PdfReader(pdf_file)\n",
        "        for page_num in range(len(pdf_reader.pages)):\n",
        "            page = pdf_reader.pages[page_num]\n",
        "            text += page.extract_text()\n",
        "    return text\n",
        "\n",
        "\n",
        "labeled_data = [\n",
        "    {\"cv_text\": \"Text from CV 1...\", \"job_role\": \"Data Scientist\"},\n",
        "    {\"cv_text\": \"Text from CV 2...\", \"job_role\": \"Software Engineer\"},\n",
        "    {\"cv_text\": \"Text from CV 3...\", \"job_role\": \"Web Developer\"},\n",
        "\n",
        "]\n",
        "\n",
        "\n",
        "skill_keywords = [\"python\", \"java\", \"javascript\", \"html\", \"css\", \"sql\", \"machine learning\", \"deep learning\"]\n",
        "\n",
        "\n",
        "X_train = [sample[\"cv_text\"] for sample in labeled_data]\n",
        "y_train = [sample[\"job_role\"] for sample in labeled_data]\n",
        "\n",
        "vectorizer, classifier = train_classifier(X_train, y_train)\n",
        "\n",
        "\n",
        "joblib.dump(vectorizer, 'tfidf_vectorizer.pkl')\n",
        "joblib.dump(classifier, 'classifier.pkl')\n",
        "\n",
        "cv_file = \"/content/CV-ANISH DAS.pdf\" # Path of the CV pdf should be pasted here ---\n",
        "\n",
        "\n",
        "job_role = analyze_cv_with_ml(cv_file, vectorizer, classifier, skill_keywords)\n",
        "print(\"Predicted Job Role:\", job_role)\n"
      ]
    },
    {
      "cell_type": "code",
      "execution_count": null,
      "metadata": {
        "id": "LVKFOzPw90ox"
      },
      "outputs": [],
      "source": []
    },
    {
      "cell_type": "code",
      "execution_count": 2,
      "metadata": {
        "colab": {
          "base_uri": "https://localhost:8080/"
        },
        "id": "axp6KwfgiXcV",
        "outputId": "abdbdb8b-bda1-4b74-9374-c9eb57720e9c"
      },
      "outputs": [
        {
          "name": "stdout",
          "output_type": "stream",
          "text": [
            "Collecting PyPDF2\n",
            "  Downloading pypdf2-3.0.1-py3-none-any.whl (232 kB)\n",
            "\u001b[2K     \u001b[90m━━━━━━━━━━━━━━━━━━━━━━━━━━━━━━━━━━━━━━━━\u001b[0m \u001b[32m232.6/232.6 kB\u001b[0m \u001b[31m2.2 MB/s\u001b[0m eta \u001b[36m0:00:00\u001b[0m\n",
            "\u001b[?25hInstalling collected packages: PyPDF2\n",
            "Successfully installed PyPDF2-3.0.1\n"
          ]
        }
      ],
      "source": [
        "pip install PyPDF2"
      ]
    }
  ],
  "metadata": {
    "colab": {
      "provenance": [],
      "toc_visible": true
    },
    "kernelspec": {
      "display_name": "Python 3",
      "name": "python3"
    },
    "language_info": {
      "name": "python"
    }
  },
  "nbformat": 4,
  "nbformat_minor": 0
}
